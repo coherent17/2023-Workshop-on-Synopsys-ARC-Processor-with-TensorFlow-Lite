{
 "cells": [
  {
   "cell_type": "code",
   "execution_count": 8,
   "metadata": {},
   "outputs": [],
   "source": [
    "from scipy.io.wavfile import write\n",
    "import numpy as np\n",
    "\n",
    "samplerate = 16000;"
   ]
  },
  {
   "cell_type": "code",
   "execution_count": 9,
   "metadata": {},
   "outputs": [
    {
     "name": "stdout",
     "output_type": "stream",
     "text": [
      "[[ -5252.  -2355.]\n",
      " [ -1673.   -824.]\n",
      " [  8098.  -3219.]\n",
      " ...\n",
      " [  9752.   4786.]\n",
      " [-12954.   4485.]\n",
      " [-30133.  -2164.]]\n"
     ]
    }
   ],
   "source": [
    "data_input = np.genfromtxt(\"pdm_dual.log\", delimiter=',')  \n",
    "print(data_input)"
   ]
  },
  {
   "cell_type": "code",
   "execution_count": 10,
   "metadata": {},
   "outputs": [
    {
     "name": "stdout",
     "output_type": "stream",
     "text": [
      "[[ -5252.  -1673.   8098. ...   9752. -12954. -30133.]\n",
      " [ -2355.   -824.  -3219. ...   4786.   4485.  -2164.]]\n"
     ]
    }
   ],
   "source": [
    "data_input = data_input.T\n",
    "print(data_input)"
   ]
  },
  {
   "cell_type": "markdown",
   "metadata": {},
   "source": [
    "You need to choose which type of string you received\n",
    "This type 1"
   ]
  },
  {
   "cell_type": "code",
   "execution_count": 11,
   "metadata": {},
   "outputs": [
    {
     "name": "stdout",
     "output_type": "stream",
     "text": [
      "[ -5252.  -1673.   8098. ...   9752. -12954. -30133.]\n",
      "[-2355.  -824. -3219. ...  4786.  4485. -2164.]\n"
     ]
    },
    {
     "ename": "IndexError",
     "evalue": "index 2 is out of bounds for axis 0 with size 2",
     "output_type": "error",
     "traceback": [
      "\u001b[1;31m---------------------------------------------------------------------------\u001b[0m",
      "\u001b[1;31mIndexError\u001b[0m                                Traceback (most recent call last)",
      "\u001b[1;32m~\\AppData\\Local\\Temp/ipykernel_6988/600592950.py\u001b[0m in \u001b[0;36m<module>\u001b[1;34m\u001b[0m\n\u001b[0;32m      3\u001b[0m \u001b[0mleft_channel\u001b[0m \u001b[1;33m=\u001b[0m \u001b[0mdata_input\u001b[0m\u001b[1;33m[\u001b[0m\u001b[1;36m1\u001b[0m\u001b[1;33m]\u001b[0m\u001b[1;33m\u001b[0m\u001b[1;33m\u001b[0m\u001b[0m\n\u001b[0;32m      4\u001b[0m \u001b[0mprint\u001b[0m\u001b[1;33m(\u001b[0m\u001b[0mleft_channel\u001b[0m\u001b[1;33m)\u001b[0m\u001b[1;33m\u001b[0m\u001b[1;33m\u001b[0m\u001b[0m\n\u001b[1;32m----> 5\u001b[1;33m \u001b[0mright_channel\u001b[0m \u001b[1;33m=\u001b[0m \u001b[0mdata_input\u001b[0m\u001b[1;33m[\u001b[0m\u001b[1;36m2\u001b[0m\u001b[1;33m]\u001b[0m\u001b[1;33m\u001b[0m\u001b[1;33m\u001b[0m\u001b[0m\n\u001b[0m\u001b[0;32m      6\u001b[0m \u001b[0mprint\u001b[0m\u001b[1;33m(\u001b[0m\u001b[0mright_channel\u001b[0m\u001b[1;33m)\u001b[0m\u001b[1;33m\u001b[0m\u001b[1;33m\u001b[0m\u001b[0m\n",
      "\u001b[1;31mIndexError\u001b[0m: index 2 is out of bounds for axis 0 with size 2"
     ]
    }
   ],
   "source": [
    "data_serial_number = data_input[0]\n",
    "print(data_serial_number)\n",
    "left_channel = data_input[1]\n",
    "print(left_channel)\n",
    "right_channel = data_input[2]\n",
    "print(right_channel)"
   ]
  },
  {
   "cell_type": "markdown",
   "metadata": {},
   "source": [
    "You need to choose which type you received\n",
    "This is type 2"
   ]
  },
  {
   "cell_type": "code",
   "execution_count": 12,
   "metadata": {},
   "outputs": [
    {
     "name": "stdout",
     "output_type": "stream",
     "text": [
      "[ -5252.  -1673.   8098. ...   9752. -12954. -30133.]\n",
      "[-2355.  -824. -3219. ...  4786.  4485. -2164.]\n"
     ]
    }
   ],
   "source": [
    "left_channel = data_input[0]\n",
    "print(left_channel)\n",
    "right_channel = data_input[1]\n",
    "print(right_channel)"
   ]
  },
  {
   "cell_type": "code",
   "execution_count": 13,
   "metadata": {},
   "outputs": [
    {
     "name": "stdout",
     "output_type": "stream",
     "text": [
      "[ -3803.5  -1248.5   2439.5 ...   7269.   -4234.5 -16148.5]\n"
     ]
    }
   ],
   "source": [
    "dual_channel = left_channel + right_channel\n",
    "dual_channel = dual_channel / 2\n",
    "print(dual_channel)"
   ]
  },
  {
   "cell_type": "code",
   "execution_count": 14,
   "metadata": {},
   "outputs": [],
   "source": [
    "write(\"pdm16_example.wav\", samplerate, dual_channel.astype(np.int16))"
   ]
  },
  {
   "cell_type": "code",
   "execution_count": null,
   "metadata": {},
   "outputs": [],
   "source": []
  },
  {
   "cell_type": "code",
   "execution_count": null,
   "metadata": {},
   "outputs": [],
   "source": []
  },
  {
   "cell_type": "code",
   "execution_count": null,
   "metadata": {},
   "outputs": [],
   "source": []
  }
 ],
 "metadata": {
  "kernelspec": {
   "display_name": "Python 3 (ipykernel)",
   "language": "python",
   "name": "python3"
  },
  "language_info": {
   "codemirror_mode": {
    "name": "ipython",
    "version": 3
   },
   "file_extension": ".py",
   "mimetype": "text/x-python",
   "name": "python",
   "nbconvert_exporter": "python",
   "pygments_lexer": "ipython3",
   "version": "3.8.12"
  }
 },
 "nbformat": 4,
 "nbformat_minor": 4
}
