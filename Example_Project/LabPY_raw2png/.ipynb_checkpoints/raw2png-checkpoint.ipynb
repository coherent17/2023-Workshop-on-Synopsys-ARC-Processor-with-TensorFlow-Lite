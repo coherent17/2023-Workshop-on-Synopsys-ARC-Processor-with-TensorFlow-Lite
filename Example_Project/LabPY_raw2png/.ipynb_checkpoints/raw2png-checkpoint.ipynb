{
 "cells": [
  {
   "cell_type": "code",
   "execution_count": 3,
   "metadata": {},
   "outputs": [],
   "source": [
    "import numpy as np\n",
    "from PIL import Image"
   ]
  },
  {
   "cell_type": "code",
   "execution_count": 6,
   "metadata": {},
   "outputs": [
    {
     "name": "stdout",
     "output_type": "stream",
     "text": [
      "[[233 234 232 ... 127 124 125]\n",
      " [230 230 226 ... 147 145 145]\n",
      " [225 225 222 ... 161 162 160]\n",
      " ...\n",
      " [151 155 151 ... 176 193 209]\n",
      " [148 153 153 ... 208 219 225]\n",
      " [149 151 152 ... 228 232 235]]\n",
      "(480, 640)\n"
     ]
    }
   ],
   "source": [
    "data_input = np.genfromtxt(\"camera_y.log\", delimiter=',')  \n",
    "data_input = np.uint8(data_input)\n",
    "\n",
    "print(data_input)\n",
    "print(data_input.shape)\n",
    "\n",
    "img = Image.fromarray(data_input, 'L')\n",
    "img.save('my_gray.png')\n",
    "img.show()"
   ]
  },
  {
   "cell_type": "code",
   "execution_count": null,
   "metadata": {},
   "outputs": [],
   "source": []
  },
  {
   "cell_type": "code",
   "execution_count": null,
   "metadata": {},
   "outputs": [],
   "source": []
  },
  {
   "cell_type": "code",
   "execution_count": null,
   "metadata": {},
   "outputs": [],
   "source": []
  }
 ],
 "metadata": {
  "kernelspec": {
   "display_name": "Python 3 (ipykernel)",
   "language": "python",
   "name": "python3"
  },
  "language_info": {
   "codemirror_mode": {
    "name": "ipython",
    "version": 3
   },
   "file_extension": ".py",
   "mimetype": "text/x-python",
   "name": "python",
   "nbconvert_exporter": "python",
   "pygments_lexer": "ipython3",
   "version": "3.8.16"
  }
 },
 "nbformat": 4,
 "nbformat_minor": 4
}
